{
  "nbformat": 4,
  "nbformat_minor": 0,
  "metadata": {
    "colab": {
      "provenance": [],
      "authorship_tag": "ABX9TyNj3KWI8swndzKpTQmA+rEd",
      "include_colab_link": true
    },
    "kernelspec": {
      "name": "python3",
      "display_name": "Python 3"
    },
    "language_info": {
      "name": "python"
    }
  },
  "cells": [
    {
      "cell_type": "markdown",
      "metadata": {
        "id": "view-in-github",
        "colab_type": "text"
      },
      "source": [
        "<a href=\"https://colab.research.google.com/github/KhurramRashid6893/NLP_Perplexity_Calculation/blob/main/Perplexity_Calculation.ipynb\" target=\"_parent\"><img src=\"https://colab.research.google.com/assets/colab-badge.svg\" alt=\"Open In Colab\"/></a>"
      ]
    },
    {
      "cell_type": "markdown",
      "source": [
        "A mathematical metric that measures how good a language model is at predicting text.\n",
        "\n",
        "🔹 Definition:\n",
        "\n",
        "It tells how “confused” or “uncertain” a model is about predicting the next word."
      ],
      "metadata": {
        "id": "bEeLjqv9Oc2T"
      }
    },
    {
      "cell_type": "code",
      "execution_count": null,
      "metadata": {
        "colab": {
          "base_uri": "https://localhost:8080/"
        },
        "id": "UfYZhPEBN8WF",
        "outputId": "efd1cce0-51bb-4890-db1f-d37f9fc12512"
      },
      "outputs": [
        {
          "output_type": "stream",
          "name": "stdout",
          "text": [
            "Perplexity: 1.84\n"
          ]
        }
      ],
      "source": [
        "import math\n",
        "\n",
        "# Example word probabilities from a model\n",
        "probs = [0.5, 0.4, 0.8]  # for sentence \"I love NLP\"\n",
        "\n",
        "# Compute perplexity\n",
        "N = len(probs)\n",
        "ppl = math.pow(math.prod(probs), -1/N)\n",
        "print(\"Perplexity:\", round(ppl, 2))\n"
      ]
    },
    {
      "cell_type": "code",
      "source": [
        "probs = [0.5, 0.1, 0.05]\n",
        "ppl = math.pow(math.prod(probs), -1/len(probs))\n",
        "print(\"Perplexity:\", round(ppl, 2))\n"
      ],
      "metadata": {
        "colab": {
          "base_uri": "https://localhost:8080/"
        },
        "id": "K5Z8wpFZODmM",
        "outputId": "d84e24cd-9eba-48d2-e66d-ecef239f20fc"
      },
      "execution_count": null,
      "outputs": [
        {
          "output_type": "stream",
          "name": "stdout",
          "text": [
            "Perplexity: 7.37\n"
          ]
        }
      ]
    },
    {
      "cell_type": "markdown",
      "source": [
        "The lower the perplexity, the better the model understands language!"
      ],
      "metadata": {
        "id": "wN2MDWCWOHPi"
      }
    },
    {
      "cell_type": "code",
      "source": [
        "import nltk\n",
        "nltk.download('words')\n",
        "from nltk.corpus import words\n",
        "from nltk.metrics import edit_distance\n",
        "\n",
        "# Dictionary of valid words\n",
        "english_words = set(words.words())\n",
        "\n",
        "word = \"natuer\"\n",
        "candidates = [(w, edit_distance(word, w)) for w in english_words if abs(len(w) - len(word)) <= 2]\n",
        "\n",
        "# Sort by minimum edit distance\n",
        "candidates = sorted(candidates, key=lambda x: x[1])[:5]\n",
        "print(\"Top candidates:\", candidates)\n"
      ],
      "metadata": {
        "id": "3Amesdb2PkEc",
        "outputId": "d871144c-94c0-4cf3-e00b-db8ba714f9ae",
        "colab": {
          "base_uri": "https://localhost:8080/"
        }
      },
      "execution_count": null,
      "outputs": [
        {
          "output_type": "stream",
          "name": "stderr",
          "text": [
            "[nltk_data] Downloading package words to /root/nltk_data...\n",
            "[nltk_data]   Unzipping corpora/words.zip.\n"
          ]
        },
        {
          "output_type": "stream",
          "name": "stdout",
          "text": [
            "Top candidates: [('nather', 1), ('natter', 1), ('gnatter', 2), ('latter', 2), ('nitter', 2)]\n"
          ]
        }
      ]
    }
  ]
}